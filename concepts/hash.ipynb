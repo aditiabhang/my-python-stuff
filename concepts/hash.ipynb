{
 "cells": [
  {
   "cell_type": "markdown",
   "metadata": {},
   "source": [
    "## hash(object):\n",
    "        - hash() quickly compares the dictionary keys during dictionary lookup.\n",
    "        - It returns the hash value of the object.\n",
    "        - hash values are integers. \n",
    "        - Python offers hash() method to encode the data into unrecognisable value."
   ]
  },
  {
   "cell_type": "markdown",
   "metadata": {},
   "source": [
    "#### Properties of hash():\n",
    "        - Objects which uses hash(), becomes irreversable, leading to loss of information.\n",
    "        - hash() returns hashed value only for immutable objects.\n",
    "        - It can be used as an indicator to check for mutable/immutable objects."
   ]
  },
  {
   "cell_type": "code",
   "execution_count": 3,
   "metadata": {},
   "outputs": [
    {
     "name": "stdout",
     "output_type": "stream",
     "text": [
      "3\n",
      "3 4 5 6\n",
      "7818377660445311605\n"
     ]
    }
   ],
   "source": [
    "n = int(input())\n",
    "integer_list = map(int, input().split())\n",
    "# we can write the above map in the following ways\n",
    "# 1. for x in xrange(n):\n",
    "#        integer_list[i]=int(integer_list[i])\n",
    "# 2. for x in xrange(len(integer_list)):\n",
    "#        integer_list[i]=int(integer_list[i])\n",
    "# 3. (list comprehension)\n",
    "#    integer_list = [int(x) for x in integer_list]\n",
    "\n",
    "t = tuple(integer_list)\n",
    "print (hash(t))"
   ]
  },
  {
   "cell_type": "markdown",
   "metadata": {},
   "source": []
  }
 ],
 "metadata": {
  "kernelspec": {
   "display_name": "Python 3",
   "language": "python",
   "name": "python3"
  },
  "language_info": {
   "codemirror_mode": {
    "name": "ipython",
    "version": 3
   },
   "file_extension": ".py",
   "mimetype": "text/x-python",
   "name": "python",
   "nbconvert_exporter": "python",
   "pygments_lexer": "ipython3",
   "version": "3.7.3"
  }
 },
 "nbformat": 4,
 "nbformat_minor": 2
}
