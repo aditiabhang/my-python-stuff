{
 "cells": [
  {
   "cell_type": "markdown",
   "metadata": {},
   "source": [
    "## hash(object):\n",
    "        - hash() quickly compares the dictionary keys during dictionary lookup.\n",
    "        - It returns the hash value of the object.\n",
    "        - hash values are integers. \n",
    "        - Python offers hash() method to encode the data into unrecognisable value."
   ]
  },
  {
   "cell_type": "markdown",
   "metadata": {},
   "source": [
    "#### Properties of hash():\n",
    "        - Objects which uses hash(), becomes irreversable, leading to loss of information.\n",
    "        - hash() returns hashed value only for immutable objects.\n",
    "        - It can be used as an indicator to check for mutable/immutable objects."
   ]
  },
  {
   "cell_type": "code",
   "execution_count": 4,
   "metadata": {},
   "outputs": [
    {
     "name": "stdout",
     "output_type": "stream",
     "text": [
      "3\n",
      "3 6 9\n",
      "5050914628374319643\n"
     ]
    }
   ],
   "source": [
    "n = int(input())\n",
    "integer_list = map(int, input().split())\n",
    "# we can write the above map in the following ways\n",
    "# 1. for x in xrange(n):\n",
    "#        integer_list[i]=int(integer_list[i])\n",
    "# 2. for x in xrange(len(integer_list)):\n",
    "#        integer_list[i]=int(integer_list[i])\n",
    "# 3. (list comprehension)\n",
    "#    integer_list = [int(x) for x in integer_list]\n",
    "\n",
    "t = tuple(integer_list)\n",
    "print (hash(t))"
   ]
  },
  {
   "cell_type": "code",
   "execution_count": 6,
   "metadata": {},
   "outputs": [
    {
     "name": "stdout",
     "output_type": "stream",
     "text": [
      "The hash value of int: 36\n",
      "The hash value of string: -921544714584364160\n",
      "The hash value of float: 253642731013505035\n",
      "\n",
      "As we know that hash value cannot be applied to mutable objects, lets see an example of it.\n",
      "/n After defining the list and tuple, we would get an error message when hash is applied on list.\n"
     ]
    },
    {
     "ename": "TypeError",
     "evalue": "unhashable type: 'list'",
     "output_type": "error",
     "traceback": [
      "\u001b[0;31m---------------------------------------------------------------------------\u001b[0m",
      "\u001b[0;31mTypeError\u001b[0m                                 Traceback (most recent call last)",
      "\u001b[0;32m<ipython-input-6-2c55d904c0f7>\u001b[0m in \u001b[0;36m<module>\u001b[0;34m\u001b[0m\n\u001b[1;32m     11\u001b[0m \u001b[0mtuplu\u001b[0m \u001b[0;34m=\u001b[0m \u001b[0;34m(\u001b[0m\u001b[0;36m3\u001b[0m\u001b[0;34m,\u001b[0m \u001b[0;36m6\u001b[0m\u001b[0;34m,\u001b[0m \u001b[0;36m4\u001b[0m\u001b[0;34m,\u001b[0m \u001b[0;36m3\u001b[0m\u001b[0;34m,\u001b[0m \u001b[0;36m6\u001b[0m\u001b[0;34m)\u001b[0m\u001b[0;34m\u001b[0m\u001b[0;34m\u001b[0m\u001b[0m\n\u001b[1;32m     12\u001b[0m \u001b[0mprint\u001b[0m\u001b[0;34m(\u001b[0m\u001b[0;34m'/n After defining the list and tuple, we would get an error message when hash is applied on list.'\u001b[0m\u001b[0;34m)\u001b[0m\u001b[0;34m\u001b[0m\u001b[0;34m\u001b[0m\u001b[0m\n\u001b[0;32m---> 13\u001b[0;31m \u001b[0mprint\u001b[0m\u001b[0;34m(\u001b[0m\u001b[0;34m'/nThe hash value of list: '\u001b[0m \u001b[0;34m+\u001b[0m \u001b[0mstr\u001b[0m\u001b[0;34m(\u001b[0m\u001b[0mhash\u001b[0m\u001b[0;34m(\u001b[0m\u001b[0mlisty\u001b[0m\u001b[0;34m)\u001b[0m\u001b[0;34m)\u001b[0m\u001b[0;34m)\u001b[0m\u001b[0;34m\u001b[0m\u001b[0;34m\u001b[0m\u001b[0m\n\u001b[0m\u001b[1;32m     14\u001b[0m \u001b[0mprint\u001b[0m\u001b[0;34m(\u001b[0m\u001b[0;34m'The hash value of tuple: '\u001b[0m \u001b[0;34m+\u001b[0m \u001b[0mstr\u001b[0m\u001b[0;34m(\u001b[0m\u001b[0mhash\u001b[0m\u001b[0;34m(\u001b[0m\u001b[0mtuplu\u001b[0m\u001b[0;34m)\u001b[0m\u001b[0;34m)\u001b[0m\u001b[0;34m)\u001b[0m\u001b[0;34m\u001b[0m\u001b[0;34m\u001b[0m\u001b[0m\n",
      "\u001b[0;31mTypeError\u001b[0m: unhashable type: 'list'"
     ]
    }
   ],
   "source": [
    "int_val = 36\n",
    "str_val = 'aditi'\n",
    "flt_val = 11.11\n",
    "\n",
    "print('The hash value of int: ' + str(hash(int_val)))\n",
    "print('The hash value of string: ' + str(hash(str_val)))\n",
    "print('The hash value of float: ' + str(hash(flt_val)))\n",
    "print('')\n",
    "print('As we know that hash value cannot be applied to mutable objects, lets see an example of it.')\n",
    "listy = [3, 6, 4, 3, 6]\n",
    "tuplu = (3, 6, 4, 3, 6)\n",
    "print('/n After defining the list and tuple, we would get an error message when hash is applied on list.')\n",
    "print('/nThe hash value of list: ' + str(hash(listy)))\n",
    "print('The hash value of tuple: ' + str(hash(tuplu)))"
   ]
  },
  {
   "cell_type": "code",
   "execution_count": null,
   "metadata": {},
   "outputs": [],
   "source": []
  }
 ],
 "metadata": {
  "kernelspec": {
   "display_name": "Python 3",
   "language": "python",
   "name": "python3"
  },
  "language_info": {
   "codemirror_mode": {
    "name": "ipython",
    "version": 3
   },
   "file_extension": ".py",
   "mimetype": "text/x-python",
   "name": "python",
   "nbconvert_exporter": "python",
   "pygments_lexer": "ipython3",
   "version": "3.7.3"
  }
 },
 "nbformat": 4,
 "nbformat_minor": 2
}
