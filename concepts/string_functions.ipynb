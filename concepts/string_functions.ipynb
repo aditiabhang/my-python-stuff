{
 "cells": [
  {
   "cell_type": "markdown",
   "metadata": {},
   "source": [
    "### String functions"
   ]
  },
  {
   "cell_type": "markdown",
   "metadata": {},
   "source": [
    "#### Making strings upper and lower case"
   ]
  },
  {
   "cell_type": "markdown",
   "metadata": {},
   "source": [
    "- The functions str.upper() and str.lower() will return a string with all the letters of an original string converted to upper- or lower-case letters.\n",
    "- Because strings are immutable data types, the returned string will be a new string.\n",
    "- Any characters in the string that are not letters will not be changed."
   ]
  },
  {
   "cell_type": "code",
   "execution_count": 1,
   "metadata": {},
   "outputs": [
    {
     "name": "stdout",
     "output_type": "stream",
     "text": [
      "Upper case:  ADITI ABHANG\n",
      "Lower case:  aditi abhang\n"
     ]
    }
   ],
   "source": [
    "my_name = \"Aditi Abhang\"\n",
    "print (\"Upper case: \", my_name.upper())\n",
    "print (\"Lower case: \", my_name.lower())"
   ]
  },
  {
   "cell_type": "markdown",
   "metadata": {},
   "source": [
    "#### Boolean Methods"
   ]
  },
  {
   "cell_type": "markdown",
   "metadata": {},
   "source": [
    "- These methods are useful when we are creating forms for users to fill in, for example.\n",
    "- If we are asking for a post code we will only want to accept a numeric string, but when we are asking for a name, we will only want to accept an alphabetic string."
   ]
  },
  {
   "cell_type": "markdown",
   "metadata": {},
   "source": [
    "   Method           True if\n",
    "         \n",
    "- str.isalnum()\t    String consists of only alphanumeric characters (no symbols)\n",
    "- str.isalpha()\t    String consists of only alphabetic characters (no symbols)\n",
    "- str.islower()\t    String’s alphabetic characters are all lower case\n",
    "- str.isnumeric()\tString consists of only numeric characters\n",
    "- str.isspace()\t    String consists of only whitespace characters\n",
    "- str.istitle()\t    String is in title case\n",
    "- str.isupper()\t    String’s alphabetic characters are all upper case"
   ]
  },
  {
   "cell_type": "code",
   "execution_count": 7,
   "metadata": {},
   "outputs": [
    {
     "data": {
      "text/plain": [
       "True"
      ]
     },
     "execution_count": 7,
     "metadata": {},
     "output_type": "execute_result"
    }
   ],
   "source": [
    "poem = \"sammy lived in a pretty how town\"\n",
    "book = \"A Thousand Splendid Sharks\"\n",
    "\n",
    "book.istitle()"
   ]
  },
  {
   "cell_type": "code",
   "execution_count": 8,
   "metadata": {},
   "outputs": [
    {
     "data": {
      "text/plain": [
       "False"
      ]
     },
     "execution_count": 8,
     "metadata": {},
     "output_type": "execute_result"
    }
   ],
   "source": [
    "poem.istitle()"
   ]
  },
  {
   "cell_type": "markdown",
   "metadata": {},
   "source": [
    "#### Determining String Length"
   ]
  },
  {
   "cell_type": "code",
   "execution_count": 9,
   "metadata": {},
   "outputs": [
    {
     "name": "stdout",
     "output_type": "stream",
     "text": [
      "32\n"
     ]
    }
   ],
   "source": [
    "poem = \"sammy lived in a pretty how town\"\n",
    "print (len(poem))"
   ]
  },
  {
   "cell_type": "markdown",
   "metadata": {},
   "source": [
    "#### join(), split(), and replace() Methods"
   ]
  },
  {
   "cell_type": "markdown",
   "metadata": {},
   "source": [
    "##### 1. join() and reversed()"
   ]
  },
  {
   "cell_type": "markdown",
   "metadata": {},
   "source": [
    "- join()\n",
    "    The str.join() method will concatenate two strings, but in a way that passes one string through another."
   ]
  },
  {
   "cell_type": "code",
   "execution_count": 15,
   "metadata": {},
   "outputs": [
    {
     "name": "stdout",
     "output_type": "stream",
     "text": [
      "S a m m y   h a s   a   b a l l o o n .\n"
     ]
    }
   ],
   "source": [
    "#Example:\n",
    "balloon = \"Sammy has a balloon.\"\n",
    "    #Now, let’s use the str.join() method to add whitespace to that string, which we can do like so:\n",
    "print (\" \".join(balloon))"
   ]
  },
  {
   "cell_type": "markdown",
   "metadata": {},
   "source": [
    "- reversed()\n",
    "    We can also use the str.join() method to return a string that is a reversal from the original string:"
   ]
  },
  {
   "cell_type": "code",
   "execution_count": 16,
   "metadata": {},
   "outputs": [
    {
     "name": "stdout",
     "output_type": "stream",
     "text": [
      ".noollab a sah ymmaS\n"
     ]
    }
   ],
   "source": [
    "print (\"\".join(reversed(balloon)))"
   ]
  },
  {
   "cell_type": "markdown",
   "metadata": {},
   "source": [
    "- The str.join() method is also useful to combine a list of strings into a new single string.\n",
    "\n",
    "  Let’s create a comma-separated string from a list of strings:"
   ]
  },
  {
   "cell_type": "code",
   "execution_count": 18,
   "metadata": {},
   "outputs": [
    {
     "name": "stdout",
     "output_type": "stream",
     "text": [
      "sharks,crustaceans,plankton\n",
      "sharks, crustaceans, plankton\n"
     ]
    }
   ],
   "source": [
    "print(\",\".join([\"sharks\", \"crustaceans\", \"plankton\"]))\n",
    "# If we want to add a comma and a space between string values in our new string, \n",
    "# we can simply rewrite our expression with a whitespace after the comma:\n",
    "print(\", \".join([\"sharks\", \"crustaceans\", \"plankton\"]))"
   ]
  },
  {
   "cell_type": "markdown",
   "metadata": {},
   "source": [
    "##### 2. split()"
   ]
  },
  {
   "cell_type": "markdown",
   "metadata": {},
   "source": [
    "- Just as we can join strings together, we can also split strings up. To do this, we will use the str.split() method:"
   ]
  },
  {
   "cell_type": "code",
   "execution_count": 19,
   "metadata": {},
   "outputs": [
    {
     "name": "stdout",
     "output_type": "stream",
     "text": [
      "['Sammy', 'has', 'a', 'balloon.']\n"
     ]
    }
   ],
   "source": [
    "print(balloon.split())"
   ]
  },
  {
   "cell_type": "markdown",
   "metadata": {},
   "source": [
    "- The str.split() method returns a list of strings that are separated by whitespace if no other parameter is given.\n",
    "\n",
    "- We can also use str.split() to remove certain parts of an original string. For example, let’s remove the letter a from the string:"
   ]
  },
  {
   "cell_type": "code",
   "execution_count": 20,
   "metadata": {},
   "outputs": [
    {
     "name": "stdout",
     "output_type": "stream",
     "text": [
      "['S', 'mmy h', 's ', ' b', 'lloon.']\n"
     ]
    }
   ],
   "source": [
    "print(balloon.split('a'))"
   ]
  },
  {
   "cell_type": "markdown",
   "metadata": {},
   "source": [
    "##### 3. replace()"
   ]
  },
  {
   "cell_type": "markdown",
   "metadata": {},
   "source": [
    "- Let’s say that the balloon that Sammy had is lost. Since Sammy no longer has this balloon, we will change the substring \"has\" from the original string balloon to \"had\" in a new string:"
   ]
  },
  {
   "cell_type": "code",
   "execution_count": 22,
   "metadata": {},
   "outputs": [
    {
     "name": "stdout",
     "output_type": "stream",
     "text": [
      "Sammy had a balloon.\n"
     ]
    }
   ],
   "source": [
    "print (balloon.replace('has', 'had'))"
   ]
  },
  {
   "cell_type": "code",
   "execution_count": null,
   "metadata": {},
   "outputs": [],
   "source": []
  }
 ],
 "metadata": {
  "kernelspec": {
   "display_name": "Python 3",
   "language": "python",
   "name": "python3"
  },
  "language_info": {
   "codemirror_mode": {
    "name": "ipython",
    "version": 3
   },
   "file_extension": ".py",
   "mimetype": "text/x-python",
   "name": "python",
   "nbconvert_exporter": "python",
   "pygments_lexer": "ipython3",
   "version": "3.7.3"
  }
 },
 "nbformat": 4,
 "nbformat_minor": 2
}
