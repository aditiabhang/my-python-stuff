{
 "cells": [
  {
   "cell_type": "markdown",
   "metadata": {},
   "source": [
    "## Dictionaries"
   ]
  },
  {
   "cell_type": "markdown",
   "metadata": {},
   "source": [
    "- A dictionary is similar to a list, but you access values by looking up a key instead of an index. A key can be any string or number. Dictionaries are enclosed in curly braces, like so:\n",
    "      d = {'key1' : 1, 'key2' : 2, 'key3' : 3}\n",
    "- This is a dictionary called d with three key-value pairs. The key 'key1' points to the value 1, 'key2' to 2, and so on.\n",
    "- Example:"
   ]
  },
  {
   "cell_type": "code",
   "execution_count": 1,
   "metadata": {},
   "outputs": [
    {
     "name": "stdout",
     "output_type": "stream",
     "text": [
      "residents[Puffin]\n"
     ]
    }
   ],
   "source": [
    "residents = {'Puffin' : 104, 'Sloth' : 105, 'Burmese Python' : 106}\n",
    "print ('residents[Puffin]')"
   ]
  },
  {
   "cell_type": "markdown",
   "metadata": {},
   "source": [
    "- Like Lists, Dictionaries are mutable. This means they can be changed after they are created.\n",
    "- One advantage of this is that we can add new key/value pairs to the dictionary after it is created like so:\n",
    "      dict_name[new_key] = new_value\n",
    "- Example:"
   ]
  },
  {
   "cell_type": "code",
   "execution_count": 2,
   "metadata": {},
   "outputs": [
    {
     "name": "stdout",
     "output_type": "stream",
     "text": [
      "There are 3 items on the menu.\n",
      "{'Dosa': 6.99, 'Idli Sambhar': 4.99, 'Medu Wada': 5.99}\n"
     ]
    }
   ],
   "source": [
    "menu = {} # Empty dictionary\n",
    "      # Your code here: Add some dish-price pairs to menu!\n",
    "menu['Dosa'] = 6.99\n",
    "menu['Idli Sambhar'] = 4.99\n",
    "menu['Medu Wada'] = 5.99\n",
    "print (\"There are \" + str(len(menu)) + \" items on the menu.\")\n",
    "print (menu)"
   ]
  },
  {
   "cell_type": "markdown",
   "metadata": {},
   "source": [
    "- Items can be removed from a dictionary with the del command:\n",
    "      del dict_name[key_name]\n",
    "- A new value can be associated with a key by assigning a value to the key, like so:\n",
    "      dict_name[key] = new_value\n",
    "- Sometimes you need to remove something from a **list**."
   ]
  },
  {
   "cell_type": "code",
   "execution_count": 3,
   "metadata": {},
   "outputs": [
    {
     "name": "stdout",
     "output_type": "stream",
     "text": [
      "['john', 'paul', 'george', 'ringo']\n"
     ]
    }
   ],
   "source": [
    "beatles = [\"john\",\"paul\",\"george\",\"ringo\",\"stuart\"]\n",
    "beatles.remove(\"stuart\")\n",
    "print (beatles)"
   ]
  },
  {
   "cell_type": "markdown",
   "metadata": {},
   "source": [
    "- Let’s go over a few last notes about dictionaries."
   ]
  },
  {
   "cell_type": "code",
   "execution_count": 4,
   "metadata": {},
   "outputs": [],
   "source": [
    "inventory = {\n",
    "        'gold' : 500,\n",
    "        'pouch' : ['flint', 'twine', 'gemstone'],\n",
    "        # Assigned a new list to 'pouch' key\n",
    "        'backpack' : ['xylophone','dagger', 'bedroll','bread loaf'] }\n",
    "# Above is a dictionary made of key-values set of ints and list.\n",
    "      #Adding a key 'burlap bag' and assigning a list to it.\n",
    "      \n",
    "inventory['burlap bag'] = ['apple', 'small ruby', 'three-toed sloth']\n",
    "\n",
    "    #Sorting the list found under the key 'pouch'\n",
    "inventory['pouch'].sort()\n",
    "\n",
    "    #removing the dagger\n",
    "inventory['backpack'].remove('dagger')\n",
    "\n",
    "    #Add 50 to the number stored under the 'gold' key\n",
    "inventory['gold'] += 50"
   ]
  },
  {
   "cell_type": "markdown",
   "metadata": {},
   "source": [
    "## A Day at the Super Market"
   ]
  },
  {
   "cell_type": "markdown",
   "metadata": {},
   "source": [
    "- for loops allow us to iterate through all of the elements in a list from the left-most (or zeroth element) to the right-most element. A sample loop would be structured as follows:\n",
    "\n",
    "        a = [\"List\", \"of\", \"some\", \"sort\"]\n",
    "        for x in a: \n",
    "        # Do something for every x\n",
    "- This loop will run all of the code in the indented block under the for x in a: statement. \n",
    "- The item in the list that is currently being evaluated will be x. So running the following:\n",
    "\n",
    "        for item in [1, 3, 21]: \n",
    "        print item\n",
    "- would print 1, then 3, and then 21.\n",
    "- The variable between for and in can be set to any variable name (currently item), but you should be careful to avoid using the word list as a variable, since that’s a reserved word (that is, it means something special) in the Python language."
   ]
  },
  {
   "cell_type": "markdown",
   "metadata": {},
   "source": [
    "- You can also use a for loop on a dictionary to loop through its keys with the following:\n",
    "\n",
    "        //A simple dictionary\n",
    "        d = {\"foo\" : \"bar\"}\n",
    "\n",
    "        for key in d: \n",
    "          print d[key]  //prints \"bar\" \n",
    "- Note that dictionaries are unordered, meaning that any time you loop through a dictionary, you will go through every key, but you are not guaranteed to get them in any particular order."
   ]
  },
  {
   "cell_type": "markdown",
   "metadata": {},
   "source": [
    "### Control flow and looping"
   ]
  },
  {
   "cell_type": "markdown",
   "metadata": {},
   "source": [
    "- The blocks of code in a for loop can be as big or as small as they need to be.\n",
    "- While looping, you may want to perform different actions depending on the particular item in the list.\n",
    "\n",
    "        numbers = [1, 3, 4, 7]\n",
    "        for number in numbers: \n",
    "          if number > 6:\n",
    "            print number\n",
    "        print \"We printed 7.\""
   ]
  },
  {
   "cell_type": "markdown",
   "metadata": {},
   "source": [
    "### Lists + Functions"
   ]
  },
  {
   "cell_type": "markdown",
   "metadata": {},
   "source": [
    "- Functions can also take lists as inputs and perform various operations on those lists.\n",
    "\n",
    "        def count_small(numbers):\n",
    "        total = 0\n",
    "        for n in numbers:\n",
    "            if n < 10:\n",
    "            total = total + 1\n",
    "            return total\n",
    "\n",
    "        lotto = [4, 8, 15, 16, 23, 42]\n",
    "        small = count_small(lotto)\n",
    "        print small"
   ]
  },
  {
   "cell_type": "markdown",
   "metadata": {},
   "source": [
    "- We can print the entries from two (or more) different dictionaries, because we know that they have the same keys, we can loop through one dictionary and print values from both once and twice."
   ]
  },
  {
   "cell_type": "code",
   "execution_count": 5,
   "metadata": {},
   "outputs": [
    {
     "name": "stdout",
     "output_type": "stream",
     "text": [
      "banana\n",
      "price: 4\n",
      "stock: 6\n",
      "\n",
      "apple\n",
      "price: 2\n",
      "stock: 0\n",
      "\n",
      "orange\n",
      "price: 1.5\n",
      "stock: 32\n",
      "\n",
      "pear\n",
      "price: 3\n",
      "stock: 15\n",
      "\n"
     ]
    }
   ],
   "source": [
    "prices = {\"banana\": 4,\"apple\": 2,\"orange\": 1.5,\"pear\": 3}\n",
    "\n",
    "stock = {\"banana\": 6, \"apple\": 0, \"orange\": 32, \"pear\": 15}\n",
    "\n",
    "for food in prices:\n",
    "  print (food)\n",
    "  print (\"price: %s\" % prices[food])\n",
    "  print (\"stock: %s\" % stock[food])\n",
    "  print (\"\")"
   ]
  },
  {
   "cell_type": "markdown",
   "metadata": {},
   "source": [
    "### Stocking Out"
   ]
  },
  {
   "cell_type": "markdown",
   "metadata": {},
   "source": [
    "- Now you need your compute_bill function to take the stock/inventory of a particular item into account when computing the cost.\n",
    "\n",
    "- Ultimately, if an item isn’t in stock, then it shouldn’t be included in the total. You can’t buy or sell what you don’t have!"
   ]
  },
  {
   "cell_type": "code",
   "execution_count": 6,
   "metadata": {},
   "outputs": [],
   "source": [
    "def compute_bill(food):\n",
    "  total = 0\n",
    "  for item in food:\n",
    "    if stock[item] > 0:\n",
    "      total += prices[item]\n",
    "      stock[item] -= 1\n",
    "  return total"
   ]
  },
  {
   "cell_type": "code",
   "execution_count": null,
   "metadata": {},
   "outputs": [],
   "source": []
  }
 ],
 "metadata": {
  "kernelspec": {
   "display_name": "Python 3",
   "language": "python",
   "name": "python3"
  },
  "language_info": {
   "codemirror_mode": {
    "name": "ipython",
    "version": 3
   },
   "file_extension": ".py",
   "mimetype": "text/x-python",
   "name": "python",
   "nbconvert_exporter": "python",
   "pygments_lexer": "ipython3",
   "version": "3.7.3"
  }
 },
 "nbformat": 4,
 "nbformat_minor": 2
}
