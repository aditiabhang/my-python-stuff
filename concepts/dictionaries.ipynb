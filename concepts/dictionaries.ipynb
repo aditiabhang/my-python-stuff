{
 "cells": [
  {
   "cell_type": "markdown",
   "metadata": {},
   "source": [
    "### Dictionaries"
   ]
  },
  {
   "cell_type": "markdown",
   "metadata": {},
   "source": [
    "- The dictionary is Python’s built-in mapping type. Dictionaries map keys to values and these key-value pairs provide a useful way to store data in Python.\n",
    "\n",
    "- Typically used to hold data that are related, such as the information contained in an ID or a user profile, dictionaries are constructed with curly braces on either side { }.\n",
    "\n",
    "- A dictionary looks like this:"
   ]
  },
  {
   "cell_type": "code",
   "execution_count": 1,
   "metadata": {},
   "outputs": [
    {
     "name": "stdout",
     "output_type": "stream",
     "text": [
      "{'name': 'Enigma', 'contact': 89643598, 'city': 'Austin', 'country': 'USA'}\n"
     ]
    }
   ],
   "source": [
    "phone_book = {'name': 'Enigma', 'contact': 89643598, 'city': 'Austin', 'country': 'USA'}\n",
    "print(phone_book)"
   ]
  },
  {
   "cell_type": "markdown",
   "metadata": {},
   "source": [
    "**NOTE**: Looking at the output, the order of the key-value pairs may have shifted.\n",
    "In Python version 3.5 and earlier, the dictionary data type is unordered. However, in Python version 3.6 and later, the dictionary data type remains ordered.\n",
    "Regardless of whether the dictionary is ordered or not, the key-value pairs will remain intact, enabling us to access data based on their relational meaning."
   ]
  },
  {
   "cell_type": "markdown",
   "metadata": {},
   "source": [
    "#### Accessing Dictionary Elements"
   ]
  },
  {
   "cell_type": "markdown",
   "metadata": {},
   "source": [
    "##### 1. With Keys\n",
    "- Dictionaries behave like a database in that instead of calling an integer to get a particular index value as you would with a list, you assign a value to a key and can call that key to get its related value."
   ]
  },
  {
   "cell_type": "code",
   "execution_count": 2,
   "metadata": {},
   "outputs": [
    {
     "name": "stdout",
     "output_type": "stream",
     "text": [
      "Enigma\n"
     ]
    }
   ],
   "source": [
    "print(phone_book['name'])"
   ]
  },
  {
   "cell_type": "markdown",
   "metadata": {},
   "source": [
    "##### 2. Using methods\n",
    "- In addition to using keys to access values, we can also work with some built-in methods:\n",
    "\n",
    "1. dict.keys() -      isolates keys\n",
    "2. dict.values() -      isolates values\n",
    "3. dict.items() -      returns items in a list format of (key, value) tuple pairs"
   ]
  },
  {
   "cell_type": "code",
   "execution_count": 3,
   "metadata": {},
   "outputs": [
    {
     "name": "stdout",
     "output_type": "stream",
     "text": [
      "dict_keys(['name', 'contact', 'city', 'country'])\n",
      "dict_values(['Enigma', 89643598, 'Austin', 'USA'])\n",
      "dict_items([('name', 'Enigma'), ('contact', 89643598), ('city', 'Austin'), ('country', 'USA')])\n"
     ]
    }
   ],
   "source": [
    "print(phone_book.keys())\n",
    "print(phone_book.values())\n",
    "print(phone_book.items())"
   ]
  },
  {
   "cell_type": "markdown",
   "metadata": {},
   "source": [
    "- Finding common in two dictionaries"
   ]
  },
  {
   "cell_type": "code",
   "execution_count": 4,
   "metadata": {},
   "outputs": [
    {
     "name": "stdout",
     "output_type": "stream",
     "text": [
      "89643598 78948952\n",
      "Enigma Alexa\n"
     ]
    }
   ],
   "source": [
    "profile = {'name': 'Alexa', 'contact': 78948952, 'lifeform': 'machine'}\n",
    "\n",
    "for common_keys in phone_book.keys() & profile.keys():\n",
    "    print(phone_book[common_keys], profile[common_keys])\n",
    "    \n",
    "    #NOTE: we use and '&' in this instead of an 'and'"
   ]
  },
  {
   "cell_type": "code",
   "execution_count": 5,
   "metadata": {},
   "outputs": [
    {
     "name": "stdout",
     "output_type": "stream",
     "text": [
      "name is the key to the value  Enigma\n",
      "contact is the key to the value  89643598\n",
      "city is the key to the value  Austin\n",
      "country is the key to the value  USA\n"
     ]
    }
   ],
   "source": [
    "#We can iterate over the returned list format with a for loop.\n",
    "for keys, values in phone_book.items():\n",
    "    print(keys, \"is the key to the value \", values)"
   ]
  },
  {
   "cell_type": "markdown",
   "metadata": {},
   "source": [
    "#### Adding and Changing Dictionary Elements"
   ]
  },
  {
   "cell_type": "code",
   "execution_count": 6,
   "metadata": {},
   "outputs": [],
   "source": [
    "#We can add key-value entry in the dictionary without using method or function\n",
    "phone_book['Age'] = 31"
   ]
  },
  {
   "cell_type": "code",
   "execution_count": null,
   "metadata": {},
   "outputs": [],
   "source": [
    "print(phone_book)"
   ]
  },
  {
   "cell_type": "markdown",
   "metadata": {},
   "source": [
    "- We can use this method for adding key-value pairs to dictionaries with user-input. Let’s write a quick program, usernames.py that runs on the command line and allows input from the user to add more names and associated usernames:"
   ]
  },
  {
   "cell_type": "code",
   "execution_count": null,
   "metadata": {},
   "outputs": [],
   "source": [
    "# Define original dictionary\n",
    "usernames = {'Sammy': 'sammy-shark', 'Jamie': 'mantisshrimp54'}\n",
    "\n",
    "# # Set up while loop to iterate\n",
    "# while True:\n",
    "\n",
    "#     # Request user to enter a name\n",
    "#     print('Enter a name:')\n",
    "\n",
    "#     # Assign to name variable\n",
    "#     name = input()\n",
    "\n",
    "#     # Check whether name is in the dictionary and print feedback\n",
    "#     if name in usernames:\n",
    "#         print(usernames[name] + ' is the username of ' + name)\n",
    "\n",
    "#     # If the name is not in the dictionary…\n",
    "#     else:\n",
    "\n",
    "#         # Provide feedback        \n",
    "#         print('I don\\'t have ' + name + '\\'s username, what is it?')\n",
    "\n",
    "#         # Take in a new username for the associated name\n",
    "#         username = input()\n",
    "\n",
    "#         # Assign username value to name key\n",
    "#         usernames[name] = username\n",
    "\n",
    "        # Print feedback that the data was updated\n",
    "        print('Data updated.')"
   ]
  },
  {
   "cell_type": "markdown",
   "metadata": {},
   "source": [
    "- We can also add and modify dictionaries by using the dict.update() method."
   ]
  },
  {
   "cell_type": "markdown",
   "metadata": {},
   "source": [
    "#### Deleting Dictionary Elements\n",
    "   - To remove a key-value pair from a dictionary, we’ll use the following syntax:\n",
    "\n",
    "         del dict[key]\n",
    "         \n",
    "   - If we would like to clear a dictionary of all of its values, we can do so with the dict.clear() method. This will keep a given dictionary in case we need to use it later in the program, but it will no longer contain any items.\n",
    "   \n",
    "         dict.clear()"
   ]
  },
  {
   "cell_type": "markdown",
   "metadata": {},
   "source": []
  }
 ],
 "metadata": {
  "kernelspec": {
   "display_name": "Python 3",
   "language": "python",
   "name": "python3"
  },
  "language_info": {
   "codemirror_mode": {
    "name": "ipython",
    "version": 3
   },
   "file_extension": ".py",
   "mimetype": "text/x-python",
   "name": "python",
   "nbconvert_exporter": "python",
   "pygments_lexer": "ipython3",
   "version": "3.6.7"
  }
 },
 "nbformat": 4,
 "nbformat_minor": 2
}
