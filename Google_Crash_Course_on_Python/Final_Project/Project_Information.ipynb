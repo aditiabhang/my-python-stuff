{
 "cells": [
  {
   "cell_type": "markdown",
   "metadata": {},
   "source": [
    "#### Final Project\n",
    "\n",
    "We need to process a list of Event objects using their attributes to generate a report that lists all users currently logged in to the machines."
   ]
  },
  {
   "cell_type": "markdown",
   "metadata": {},
   "source": [
    "#### Step 1: Problem Statement:\n",
    "\n",
    "- Problem statement which helps us understand the problem and focus our approach.\n",
    "- We have to input a list of events objects and evaluate these object attributes to output a report to all the users currently logged in to a machine."
   ]
  },
  {
   "cell_type": "markdown",
   "metadata": {},
   "source": [
    "#### Step 2: Research\n",
    "\n",
    "- We consider all the tools we have available to help us solve the problem.\n",
    "- We need to check when a user logged in and when they logged out.\n",
    "- For this, we need to sort the date times."
   ]
  },
  {
   "cell_type": "markdown",
   "metadata": {},
   "source": [
    "##### Sort() method and sorted() function"
   ]
  },
  {
   "cell_type": "code",
   "execution_count": 12,
   "metadata": {},
   "outputs": [
    {
     "name": "stdout",
     "output_type": "stream",
     "text": [
      "[0, 3, 6, 6, 6, 9]\n"
     ]
    }
   ],
   "source": [
    "# sort() method \n",
    "#     - modifies the list it's been executed on. \n",
    "#     - the original list is changed.\n",
    "\n",
    "numbers = [3,6,9,0,6,6]\n",
    "numbers.sort()\n",
    "print(numbers)"
   ]
  },
  {
   "cell_type": "code",
   "execution_count": 13,
   "metadata": {},
   "outputs": [
    {
     "name": "stdout",
     "output_type": "stream",
     "text": [
      "['ammy', 'catherine', 'charles', 'doug', 'katie']\n"
     ]
    }
   ],
   "source": [
    "# sorted() function \n",
    "#     - returns a new list that's been sorted\n",
    "#     - the original list is untouched.\n",
    "\n",
    "names = [\"charles\", \"doug\", \"ammy\", \"catherine\", \"katie\"]\n",
    "print(sorted(names))"
   ]
  },
  {
   "cell_type": "code",
   "execution_count": 14,
   "metadata": {},
   "outputs": [
    {
     "name": "stdout",
     "output_type": "stream",
     "text": [
      "['charles', 'doug', 'ammy', 'catherine', 'katie']\n"
     ]
    }
   ],
   "source": [
    "print(names)"
   ]
  },
  {
   "cell_type": "code",
   "execution_count": 15,
   "metadata": {},
   "outputs": [
    {
     "name": "stdout",
     "output_type": "stream",
     "text": [
      "['doug', 'ammy', 'katie', 'charles', 'catherine']\n"
     ]
    }
   ],
   "source": [
    "# sorting the names by its length.\n",
    "print(sorted(names, key=len))"
   ]
  },
  {
   "cell_type": "markdown",
   "metadata": {},
   "source": [
    "#### Step 3: Planning\n",
    "\n",
    "- When we process an event, we see someone interacted with that machine. \n",
    "- If it is a log in, we wanna add it to a group of users logged in to that machine. \n",
    "- When it is logged out, we remove that user from the logged in group.\n",
    "- In this scenerio, it makes sense to make use of **set** to store the current users.\n",
    "- If the current user of a given machine are stored in a set, how do we know which set corresponds to the machine we are looking for?\n",
    "- The easiest way to know this is to store this information in a **dictionary**.\n",
    "- Machine name as the key and the current users of the machine as the value."
   ]
  },
  {
   "cell_type": "markdown",
   "metadata": {},
   "source": [
    "#### Step 4: Writing the scripts\n",
    "\n",
    "- Let's start by writing a helper function that we will use to sort the list."
   ]
  },
  {
   "cell_type": "code",
   "execution_count": 19,
   "metadata": {},
   "outputs": [],
   "source": [
    "def get_event_date(events):\n",
    "    '''Helper function - Simple function as the parameter to the sort function to sort the list.'''\n",
    "    return event.date"
   ]
  },
  {
   "cell_type": "code",
   "execution_count": 21,
   "metadata": {},
   "outputs": [],
   "source": [
    "def current_user(events):\n",
    "    events.sort(key = get_event_date)\n",
    "    machines = {}\n",
    "    for event in events:\n",
    "        if event.machine not in machines:\n",
    "            machines[event.machine] = set()\n",
    "        if event.type == 'login':\n",
    "            machines[event.machine].add(event.user)\n",
    "        elif event.type == 'logout':\n",
    "            machines[event.machine].remove(event.user)\n",
    "    return machines\n",
    "\n",
    "def generate_report(machines):\n",
    "    for machine, users in machines.items():\n",
    "        if len(users) > 0:\n",
    "            user_list = \", \".join(users)\n",
    "            print(\"{}: {}\".format(machine, user_list))"
   ]
  },
  {
   "cell_type": "code",
   "execution_count": null,
   "metadata": {},
   "outputs": [],
   "source": []
  }
 ],
 "metadata": {
  "kernelspec": {
   "display_name": "Python 3",
   "language": "python",
   "name": "python3"
  },
  "language_info": {
   "codemirror_mode": {
    "name": "ipython",
    "version": 3
   },
   "file_extension": ".py",
   "mimetype": "text/x-python",
   "name": "python",
   "nbconvert_exporter": "python",
   "pygments_lexer": "ipython3",
   "version": "3.8.3"
  }
 },
 "nbformat": 4,
 "nbformat_minor": 4
}
