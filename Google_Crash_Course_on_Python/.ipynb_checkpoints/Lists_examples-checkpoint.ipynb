{
 "cells": [
  {
   "cell_type": "markdown",
   "metadata": {},
   "source": [
    "#### Examples:\n",
    "\n",
    "Q. Using the \"split\" string method from the preceding lesson, complete the get_word function to return the {n}th word from a passed sentence. For example, get_word(\"This is a lesson about lists\", 4) should return \"lesson\", which is the 4th word in this sentence. Hint: remember that list indexes start at 0, not 1."
   ]
  },
  {
   "cell_type": "code",
   "execution_count": 1,
   "metadata": {},
   "outputs": [
    {
     "name": "stdout",
     "output_type": "stream",
     "text": [
      "lesson\n",
      "\n",
      "Now\n",
      "\n"
     ]
    }
   ],
   "source": [
    "def get_word(sentence, n):\n",
    "\t# Only proceed if n is positive \n",
    "\tif n > 0:\n",
    "\t\twords = sentence.split()\n",
    "\t\t# Only proceed if n is not more than the number of words \n",
    "\t\tif n <= len(words):\n",
    "\t\t\treturn(words[n-1])\n",
    "\treturn(\"\")\n",
    "\n",
    "print(get_word(\"This is a lesson about lists\", 4)) # Should print: lesson\n",
    "print(get_word(\"This is a lesson about lists\", -4)) # Nothing\n",
    "print(get_word(\"Now we are cooking!\", 1)) # Should print: Now\n",
    "print(get_word(\"Now we are cooking!\", 5)) # Nothing"
   ]
  },
  {
   "cell_type": "markdown",
   "metadata": {},
   "source": [
    "- In Python, lists and strings are quite similar. They’re both examples of sequences of data. Sequences have similar properties, like \n",
    "\n",
    "(1) being able to iterate over them using for loops; \n",
    "(2) support indexing; \n",
    "(3) using the len function to find the length of the sequence; \n",
    "(4) using the plus operator + in order to concatenate; and \n",
    "(5) using the in keyword to check if the sequence contains a value. "
   ]
  },
  {
   "cell_type": "markdown",
   "metadata": {},
   "source": [
    "Q. The skip_elements function returns a list containing every other element from an input list, starting with the first element. Complete this function to do that, using the for loop to iterate through the input list."
   ]
  },
  {
   "cell_type": "code",
   "execution_count": 2,
   "metadata": {},
   "outputs": [
    {
     "name": "stdout",
     "output_type": "stream",
     "text": [
      "['a', 'c', 'e', 'g']\n",
      "['Orange', 'Strawberry', 'Peach']\n",
      "[]\n"
     ]
    }
   ],
   "source": [
    "def skip_elements(elements):\n",
    "\t# Initialize variables\n",
    "\tnew_list = []\n",
    "\ti = 0\n",
    "\n",
    "\t# Iterate through the list\n",
    "\tfor elem in elements:\n",
    "\t\t# Does this element belong in the resulting list?\n",
    "\t\tif elem in elements:\n",
    "\t\t\t# Add this element to the resulting list\n",
    "\t\t\tnew_list.append(elem)\n",
    "\t\t# Increment i\n",
    "\t\ti += 1\n",
    "\n",
    "\treturn new_list[::2]\n",
    "\n",
    "print(skip_elements([\"a\", \"b\", \"c\", \"d\", \"e\", \"f\", \"g\"])) # Should be ['a', 'c', 'e', 'g']\n",
    "print(skip_elements(['Orange', 'Pineapple', 'Strawberry', 'Kiwi', 'Peach'])) # Should be ['Orange', 'Strawberry', 'Peach']\n",
    "print(skip_elements([])) # Should be []"
   ]
  },
  {
   "cell_type": "markdown",
   "metadata": {},
   "source": [
    "- While lists and strings are both sequences, a big difference between them is that **lists are mutable**. \n",
    "This means that the contents of the list can be changed, unlike **strings, which are immutable**. You can add, remove, or modify elements in a list.\n",
    "\n",
    "- You can add elements to the **end of a list using the append method**. For example, list.append(\"New data\") would add the string \"New data\" to the end of the list called list.\n",
    " \n",
    " \n",
    " - If you want to **add an element to a list in a specific position**, you can use the method **insert**. The method takes **two parameters: the first specifies the index in the list, and the second is the element to be added to the list.This wouldn't overwrite the existing element at the start of the list. It would just shift all the other elements by one**. If you specify an index that’s larger than the length of the list, the element will simply be added to the end of the list.\n",
    "    \n",
    "- You can remove elements from the list using the **remove** method. This method takes an element as a parameter, and **removes the first occurrence of the element**. If the element isn’t found in the list, you’ll get a ValueError error explaining that the element was not found in the list.\n",
    "\n",
    "- You can also remove elements from a list using the **pop method**. This method differs from the remove method in that it **takes an index as a parameter, and returns the element that was removed**. This can be useful if you don't know what the value is, but you know where it’s located. This can also be useful when you need to access the data and also want to remove it from the list.\n",
    "\n",
    "- Finally, you can **change an element in a list by using indexing to overwrite the value stored at the specified index**. For example, you can enter list[0] = \"Old data\" to overwrite the first element in a list with the new string \"Old data\"."
   ]
  },
  {
   "cell_type": "code",
   "execution_count": null,
   "metadata": {},
   "outputs": [],
   "source": []
  }
 ],
 "metadata": {
  "kernelspec": {
   "display_name": "Python 3",
   "language": "python",
   "name": "python3"
  },
  "language_info": {
   "codemirror_mode": {
    "name": "ipython",
    "version": 3
   },
   "file_extension": ".py",
   "mimetype": "text/x-python",
   "name": "python",
   "nbconvert_exporter": "python",
   "pygments_lexer": "ipython3",
   "version": "3.7.4"
  }
 },
 "nbformat": 4,
 "nbformat_minor": 4
}
