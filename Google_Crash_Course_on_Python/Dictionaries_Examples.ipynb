{
 "cells": [
  {
   "cell_type": "markdown",
   "metadata": {},
   "source": [
    "### Dictionary Basic Examples:\n",
    "\n",
    "The \"toc\" dictionary represents the table of contents for a book. Fill in the blanks to do the following: 1) Add an entry for Epilogue on page 39. 2) Change the page number for Chapter 3 to 24. 3) Display the new dictionary contents. 4) Display True if there is Chapter 5, False if there isn't."
   ]
  },
  {
   "cell_type": "code",
   "execution_count": 1,
   "metadata": {},
   "outputs": [
    {
     "name": "stdout",
     "output_type": "stream",
     "text": [
      "{'Introduction': 1, 'Chapter 1': 4, 'Chapter 2': 11, 'Chapter 3': 24, 'Chapter 4': 30, 'Epilogue': 39}\n",
      "False\n"
     ]
    }
   ],
   "source": [
    "toc = {\"Introduction\":1, \"Chapter 1\":4, \"Chapter 2\":11, \"Chapter 3\":25, \"Chapter 4\":30}\n",
    "toc[\"Epilogue\"] = 39 # Epilogue starts on page 39\n",
    "toc[\"Chapter 3\"] = 24 # Chapter 3 now starts on page 24\n",
    "print(toc) # What are the current contents of the dictionary?\n",
    "print(\"Chapter 5\" in toc) # Is there a Chapter 5?"
   ]
  },
  {
   "cell_type": "markdown",
   "metadata": {},
   "source": [
    "Dictionaries are another data structure in Python. They’re similar to a list in that they can be used to organize data into collections. However, data in a dictionary isn't accessed based on its position. Data in a dictionary is organized into pairs of keys and values. You use the key to access the corresponding value. Where a list index is always a number, a dictionary key can be a different data type, like a string, integer, float, or even tuples.\n",
    "\n",
    "When creating a dictionary, you use curly brackets: **{}**. When storing values in a dictionary, the key is specified first, followed by the corresponding value, separated by a colon. For example, **animals = { \"bears\":10, \"lions\":1, \"tigers\":2 }** creates a dictionary with three key value pairs, stored in the variable animals. The key \"bears\" points to the integer value 10, while the key \"lions\" points to the integer value 1, and \"tigers\" points to the integer 2. You can access the values by referencing the key, like this: animals[\"bears\"]. This would return the integer 10, since that’s the corresponding value for this key.\n",
    "\n",
    "You can also check **if a key is contained in a dictionary** using the **in** keyword. Just like other uses of this keyword, it will return True if the key is found in the dictionary; otherwise it will return False.\n",
    "\n",
    "Dictionaries are mutable, meaning they can be modified by adding, removing, and replacing elements in a dictionary, similar to lists. You can add a new key value pair to a dictionary by assigning a value to the key, like this: **animals[\"zebras\"] = 2**. This creates the new key in the animal dictionary called zebras, and stores the value 2. You can modify the value of an existing key by doing the same thing. So **animals[\"bears\"] = 11** would change the value stored in the bears key from 10 to 11. Lastly, you can remove elements from a dictionary by using the **del** keyword. By doing **del animals[\"lions\"]** you would remove the key value pair from the animals dictionary."
   ]
  },
  {
   "cell_type": "markdown",
   "metadata": {},
   "source": [
    "Complete the code to iterate through the keys and values of the cool_beasts dictionary. Remember that the items method returns a tuple of key, value for each element in the dictionary."
   ]
  },
  {
   "cell_type": "code",
   "execution_count": null,
   "metadata": {},
   "outputs": [],
   "source": [
    "cool_beasts = {\"octopuses\":\"tentacles\", \"dolphins\":\"fins\", \"rhinos\":\"horns\"}\n",
    "for animals, features in cool_beasts.items():\n",
    "    print(\"{} have {}\".format(animals, features))"
   ]
  },
  {
   "cell_type": "markdown",
   "metadata": {},
   "source": [
    "** Important Question ***\n",
    "Count the number of occurance in a sentence."
   ]
  },
  {
   "cell_type": "code",
   "execution_count": 9,
   "metadata": {},
   "outputs": [
    {
     "data": {
      "text/plain": [
       "{'A': 1,\n",
       " ' ': 8,\n",
       " 'v': 2,\n",
       " 'e': 6,\n",
       " 'r': 3,\n",
       " 'y': 2,\n",
       " 'l': 1,\n",
       " 'o': 3,\n",
       " 'n': 3,\n",
       " 'g': 1,\n",
       " 'w': 1,\n",
       " 'd': 1,\n",
       " 's': 3,\n",
       " 't': 3,\n",
       " 'x': 1,\n",
       " 'f': 1,\n",
       " 'a': 1,\n",
       " 'c': 1}"
      ]
     },
     "execution_count": 9,
     "metadata": {},
     "output_type": "execute_result"
    }
   ],
   "source": [
    "def count_letter(text):\n",
    "    result = {}\n",
    "    for letter in text:\n",
    "        if letter not in result:\n",
    "            result[letter] = 0\n",
    "        result[letter] += 1\n",
    "    return result\n",
    "\n",
    "#count_letter(\"Aditi\")\n",
    "count_letter(\"A very very long words texts of a sentence\")\n",
    "# count_letter(\"Mississippi\")"
   ]
  },
  {
   "cell_type": "markdown",
   "metadata": {},
   "source": [
    "You can *iterate over dictionaries using a for loop*, just like with strings, lists, and tuples. This will iterate *over the sequence of keys in the dictionary*. If you want to access the corresponding values associated with the keys, you could use the keys as indexes. Or you can use the items method on the dictionary, like **dictionary.items()**. This method **returns a tuple** for each element in the dictionary, where the first element in the tuple is the key and the second is the value.\n",
    "\n",
    "If you only wanted to access the keys in a dictionary, you could use the keys() method on the dictionary: **dictionary.keys()**. If you only wanted the values, you could use the values() method: **dictionary.values()**."
   ]
  },
  {
   "cell_type": "markdown",
   "metadata": {},
   "source": [
    "In Python, a dictionary can only hold a single value for a given key. To workaround this, our single value can be a list containing multiple values. Here we have a dictionary called \"wardrobe\" with items of clothing and their colors. Fill in the blanks to print a line for each item of clothing with each color, for example: \"red shirt\", \"blue shirt\", and so on."
   ]
  },
  {
   "cell_type": "code",
   "execution_count": 10,
   "metadata": {},
   "outputs": [
    {
     "name": "stdout",
     "output_type": "stream",
     "text": [
      "red shirt\n",
      "blue shirt\n",
      "white shirt\n",
      "blue jeans\n",
      "black jeans\n"
     ]
    }
   ],
   "source": [
    "wardrobe = {\"shirt\":[\"red\",\"blue\",\"white\"], \"jeans\":[\"blue\",\"black\"]}\n",
    "for clothing, colors in wardrobe.items():\n",
    "\tfor color in colors:\n",
    "\t\tprint(\"{} {}\".format(color, clothing))"
   ]
  },
  {
   "cell_type": "markdown",
   "metadata": {},
   "source": [
    "#### Dictionary Methods Cheat Sheet\n",
    "\n",
    "Definition\n",
    "\n",
    "x = {key1:value1, key2:value2}\n",
    "\n",
    "##### Operations\n",
    "\n",
    "- **len(dictionary)** - Returns the number of items in the dictionary\n",
    "- **for key in dictionary** - Iterates over each key in the dictionary\n",
    "- **for key, value in dictionary.items()** - Iterates over each key,value pair in the dictionary\n",
    "- **if key in dictionary** - Checks whether the key is in the dictionary\n",
    "- **dictionary[key]** - Accesses the item with key key of the dictionary\n",
    "- **dictionary[key]** = value - Sets the value associated with key\n",
    "- **del dictionary[key]** - Removes the item with key key from the dictionary\n",
    "\n",
    "\n",
    "##### Methods\n",
    "\n",
    "- **dict.get(key, default)** - Returns the element corresponding to key, or default if it's not present\n",
    "- **dict.keys()** - Returns a sequence containing the keys in the dictionary\n",
    "- **dict.values()** - Returns a sequence containing the values in the dictionary\n",
    "- **dict.update(other_dictionary)** - Updates the dictionary with the items coming from the other dictionary. Existing entries will be replaced; new entries will be added.\n",
    "- **dict.clear()** - Removes all the items of the dictionary"
   ]
  },
  {
   "cell_type": "code",
   "execution_count": null,
   "metadata": {},
   "outputs": [],
   "source": []
  }
 ],
 "metadata": {
  "kernelspec": {
   "display_name": "Python 3",
   "language": "python",
   "name": "python3"
  },
  "language_info": {
   "codemirror_mode": {
    "name": "ipython",
    "version": 3
   },
   "file_extension": ".py",
   "mimetype": "text/x-python",
   "name": "python",
   "nbconvert_exporter": "python",
   "pygments_lexer": "ipython3",
   "version": "3.7.4"
  }
 },
 "nbformat": 4,
 "nbformat_minor": 4
}
