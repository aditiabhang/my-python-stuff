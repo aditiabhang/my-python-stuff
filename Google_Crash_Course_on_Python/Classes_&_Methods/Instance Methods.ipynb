{
 "cells": [
  {
   "cell_type": "markdown",
   "metadata": {},
   "source": [
    "### Instance Methods\n",
    "- Functions that operate on the attributes of a specific instance of an class."
   ]
  },
  {
   "cell_type": "code",
   "execution_count": 3,
   "metadata": {},
   "outputs": [
    {
     "name": "stdout",
     "output_type": "stream",
     "text": [
      "Oink oink! I am Hamlet Oink!\n",
      "Oink oink! I am Pitunia Oink!\n"
     ]
    }
   ],
   "source": [
    "class Piglet:\n",
    "    name = \"piglet\"\n",
    "    def speak(self):\n",
    "        print(\"Oink oink! I am {} Oink!\".format(self.name))\n",
    "    \n",
    "hamlet = Piglet()\n",
    "hamlet.name = \"Hamlet\"\n",
    "hamlet.speak()\n",
    "    \n",
    "pitunia = Piglet()\n",
    "pitunia.name = \"Pitunia\"\n",
    "pitunia.speak()"
   ]
  },
  {
   "cell_type": "markdown",
   "metadata": {},
   "source": [
    "- Variables that have different values for the different instances of the same class are called **variable instances**."
   ]
  },
  {
   "cell_type": "code",
   "execution_count": 6,
   "metadata": {},
   "outputs": [
    {
     "name": "stdout",
     "output_type": "stream",
     "text": [
      "0\n",
      "36\n"
     ]
    }
   ],
   "source": [
    "class piggy_age:\n",
    "    years = 0\n",
    "    def pig_years(self):\n",
    "        return self.years * 18\n",
    "\n",
    "piggy = piggy_age()\n",
    "piggy.years = 0\n",
    "print(piggy.pig_years())\n",
    "\n",
    "piggy.years = 2\n",
    "print(piggy.pig_years())\n",
    "        "
   ]
  },
  {
   "cell_type": "markdown",
   "metadata": {},
   "source": [
    "##### Create a Dog class with dog_years based on the Piglet class shown before (one human year is about 7 dog years)."
   ]
  },
  {
   "cell_type": "code",
   "execution_count": 7,
   "metadata": {},
   "outputs": [
    {
     "name": "stdout",
     "output_type": "stream",
     "text": [
      "21\n"
     ]
    }
   ],
   "source": [
    "class Dog:\n",
    "  years = 0\n",
    "  def dog_years(self):\n",
    "        return self.years * 7\n",
    "    \n",
    "fido=Dog()\n",
    "fido.years=3\n",
    "print(fido.dog_years())"
   ]
  },
  {
   "cell_type": "markdown",
   "metadata": {},
   "source": [
    "#### What Is a Method?\n",
    "\n",
    "- Calling methods on objects executes functions that operate on attributes of a specific instance of the class. This means that calling a method on a list, for example, only modifies that instance of a list, and not all lists globally. \n",
    "- We can define methods within a class by creating functions inside the class definition. \n",
    "- These instance methods can take a parameter called self which represents the instance the method is being executed on. \n",
    "- This will allow you to access attributes of the instance using dot notation, like self.name, which will access the name attribute of that specific instance of the class object. \n",
    "- When you have variables that contain different values for different instances, these are called instance variables."
   ]
  },
  {
   "cell_type": "markdown",
   "metadata": {},
   "source": [
    "### Constructors and Other Special Methods"
   ]
  },
  {
   "cell_type": "markdown",
   "metadata": {},
   "source": [
    "In this code, there's a Person class that has an attribute name, which gets set when constructing the object. \n",
    "Fill in the blanks so that 1) when an instance of the class is created, the attribute gets set correctly, and 2) when the greeting() method is called, the greeting states the assigned name."
   ]
  },
  {
   "cell_type": "code",
   "execution_count": 15,
   "metadata": {},
   "outputs": [
    {
     "name": "stdout",
     "output_type": "stream",
     "text": [
      "Hi, my name is Sanket\n"
     ]
    }
   ],
   "source": [
    "class Person:\n",
    "    def __init__(self, name):\n",
    "        self.name = name\n",
    "    def greeting(self):\n",
    "        # Should return \"hi, my name is \" followed by the name of the Person.\n",
    "        return (\"Hi, my name is {}\".format(self.name))\n",
    "\n",
    "# Create a new instance with a name of your choice\n",
    "some_person = Person(\"Sanket\")\n",
    "# Call the greeting method\n",
    "print(some_person.greeting())\n"
   ]
  },
  {
   "cell_type": "markdown",
   "metadata": {},
   "source": [
    "##### >>> Check out the special methods. ipynb file for more on contructors and special methods"
   ]
  },
  {
   "cell_type": "code",
   "execution_count": null,
   "metadata": {},
   "outputs": [],
   "source": []
  }
 ],
 "metadata": {
  "kernelspec": {
   "display_name": "Python 3",
   "language": "python",
   "name": "python3"
  },
  "language_info": {
   "codemirror_mode": {
    "name": "ipython",
    "version": 3
   },
   "file_extension": ".py",
   "mimetype": "text/x-python",
   "name": "python",
   "nbconvert_exporter": "python",
   "pygments_lexer": "ipython3",
   "version": "3.8.3"
  }
 },
 "nbformat": 4,
 "nbformat_minor": 4
}
