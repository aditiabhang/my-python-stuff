{
 "cells": [
  {
   "cell_type": "markdown",
   "metadata": {},
   "source": [
    "### Classes and Methods Cheat Sheet\n",
    "\n",
    "In the past few videos, we’ve seen how to define classes and methods in Python. Here, you’ll find a run-down of everything we’ve covered, so you can refer to it whenever you need a refresher."
   ]
  },
  {
   "cell_type": "code",
   "execution_count": null,
   "metadata": {},
   "outputs": [],
   "source": [
    "#  Defining classes and methods\n",
    "\n",
    "class ClassName():\n",
    "    def methodName(self, otherParams):\n",
    "        bodyOfMethod"
   ]
  },
  {
   "cell_type": "markdown",
   "metadata": {},
   "source": [
    "#### Classes and Instances\n",
    "\n",
    "- Classes define the behavior of all instances of a specific class.\n",
    "- Each variable of a specific class is an instance or object.\n",
    "- Objects can have attributes, which store information about the object.\n",
    "- You can make objects do work by calling their methods.\n",
    "- The first parameter of the methods (self) represents the current instance.\n",
    "- Methods are just like functions, but they can only be used through a class."
   ]
  },
  {
   "cell_type": "markdown",
   "metadata": {},
   "source": [
    "#### Special methods\n",
    "\n",
    "- Special methods start and end with **__**.\n",
    "- Special methods have specific names, like **_ _init_ _** for the constructor or **_ _str_ _** for the conversion to string."
   ]
  },
  {
   "cell_type": "markdown",
   "metadata": {},
   "source": [
    "#### Documenting classes, methods and functions\n",
    "\n",
    "- You can add documentation to classes, methods, and functions by using docstrings right after the definition. Like this:\n"
   ]
  },
  {
   "cell_type": "code",
   "execution_count": 1,
   "metadata": {},
   "outputs": [],
   "source": [
    "class ClassName:\n",
    "    \"\"\"Documentation for the class.\"\"\"\n",
    "    def method_name(self, other_parameters):\n",
    "        \"\"\"Documentation for the method.\"\"\"\n",
    "        body_of_method\n",
    "        \n",
    "def function_name(parameters):\n",
    "    \"\"\"Documentation for the function.\"\"\"\n",
    "    body_of_function"
   ]
  }
 ],
 "metadata": {
  "kernelspec": {
   "display_name": "Python 3",
   "language": "python",
   "name": "python3"
  },
  "language_info": {
   "codemirror_mode": {
    "name": "ipython",
    "version": 3
   },
   "file_extension": ".py",
   "mimetype": "text/x-python",
   "name": "python",
   "nbconvert_exporter": "python",
   "pygments_lexer": "ipython3",
   "version": "3.8.3"
  }
 },
 "nbformat": 4,
 "nbformat_minor": 4
}
