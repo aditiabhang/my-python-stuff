{
 "cells": [
  {
   "cell_type": "markdown",
   "metadata": {},
   "source": [
    "### Object-Oriented Programming Defined\n",
    "\n",
    "- In object-oriented programming, concepts are modeled as classes and objects. \n",
    "- An idea is defined using a class, and an instance of this class is called an object. \n",
    "- Almost everything in Python is an object, including strings, lists, dictionaries, and numbers. \n",
    "- When we create a list in Python, we’re creating an object which is an instance of the list class, which represents the concept of a list. \n",
    "- Classes also have attributes and methods associated with them. Attributes are the characteristics of the class, while methods are functions that are part of the class."
   ]
  },
  {
   "cell_type": "markdown",
   "metadata": {},
   "source": [
    "#### Classes and Objects in Detail\n",
    "\n",
    "- We can use the **type()** function to figure out what class a variable or value belongs to. For example, type(\" \") tells us that this is a string class. \n",
    "- The only attribute in this case is the string value, but there are a bunch of methods associated with the class. We've seen the **upper()** method, which returns the string in all uppercase, as well as **isnumeric()** which returns a boolean telling us whether or not the string is a number. \n",
    "- You can use the **dir()** function to print all the attributes and methods of an object. \n",
    "- Each string is an instance of the string class, having the same methods of the parent class. Since the content of the string is different, the methods will return different values. \n",
    "- You can also use the **help()** function on an object, which will return the documentation for the corresponding class. This will show all the methods for the class, along with parameters the methods receive, types of return values, and a description of the methods."
   ]
  },
  {
   "cell_type": "code",
   "execution_count": null,
   "metadata": {},
   "outputs": [],
   "source": [
    "class Flower:\n",
    "  color = 'unknown'\n",
    "\n",
    "rose = Flower()\n",
    "rose.color = \"Red\"\n",
    "\n",
    "violet = Flower()\n",
    "violet.color = \"Blue\"\n",
    "\n",
    "this_pun_is_for_you = \"I did it..! A Poem\"\n",
    "\n",
    "print(\"Roses are {},\".format(rose.color))\n",
    "print(\"violets are {},\".format(violet.color))\n",
    "print(this_pun_is_for_you) "
   ]
  },
  {
   "cell_type": "markdown",
   "metadata": {},
   "source": [
    "#### Defining Classes \n",
    "\n",
    "We can create and define our classes in Python similar to how we define functions. We start with the class keyword, followed by the name of our class and a colon. Python style guidelines recommend class names to start with a capital letter. After the class definition line is the class body, indented to the right. Inside the class body, we can define attributes for the class.\n",
    "\n",
    "Let's take our Apple class example:"
   ]
  },
  {
   "cell_type": "code",
   "execution_count": null,
   "metadata": {},
   "outputs": [],
   "source": [
    ">>> class Apple:\n",
    "...     color = \"\"\n",
    "...     flavor = \"\"\n",
    "... "
   ]
  },
  {
   "cell_type": "markdown",
   "metadata": {},
   "source": [
    "We can create a new instance of our new class by assigning it to a variable. This is done by calling the class name as if it were a function. We can set the attributes of our class instance by accessing them using dot notation. Dot notation can be used to set or retrieve object attributes, as well as call methods associated with the class."
   ]
  },
  {
   "cell_type": "code",
   "execution_count": null,
   "metadata": {},
   "outputs": [],
   "source": [
    ">>> jonagold = Apple()\n",
    ">>> jonagold.color = \"red\"\n",
    ">>> jonagold.flavor = \"sweet\""
   ]
  },
  {
   "cell_type": "markdown",
   "metadata": {},
   "source": [
    "We created an Apple instance called jonagold, and set the color and flavor attributes for this Apple object. We can create another instance of an Apple and set different attributes to differentiate between two different varieties of apples."
   ]
  },
  {
   "cell_type": "code",
   "execution_count": null,
   "metadata": {},
   "outputs": [],
   "source": [
    ">>> golden = Apple()\n",
    ">>> golden.color = \"Yellow\"\n",
    ">>> golden.flavor = \"Soft\""
   ]
  },
  {
   "cell_type": "markdown",
   "metadata": {},
   "source": [
    "We now have another Apple object called golden that also has color and flavor attributes. But these attributes have different values."
   ]
  }
 ],
 "metadata": {
  "kernelspec": {
   "display_name": "Python 3",
   "language": "python",
   "name": "python3"
  },
  "language_info": {
   "codemirror_mode": {
    "name": "ipython",
    "version": 3
   },
   "file_extension": ".py",
   "mimetype": "text/x-python",
   "name": "python",
   "nbconvert_exporter": "python",
   "pygments_lexer": "ipython3",
   "version": "3.7.4"
  }
 },
 "nbformat": 4,
 "nbformat_minor": 4
}
