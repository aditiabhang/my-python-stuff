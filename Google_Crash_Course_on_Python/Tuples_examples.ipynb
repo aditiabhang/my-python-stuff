{
 "cells": [
  {
   "cell_type": "markdown",
   "metadata": {},
   "source": [
    "### Tuples Examples:\n",
    "\n",
    "Q. Let's use tuples to store information about a file: its name, its type and its size in bytes. Fill in the gaps in this code to return the size in kilobytes (a kilobyte is 1024 bytes) up to 2 decimal places."
   ]
  },
  {
   "cell_type": "code",
   "execution_count": 1,
   "metadata": {},
   "outputs": [
    {
     "name": "stdout",
     "output_type": "stream",
     "text": [
      "17.46\n",
      "0.48\n",
      "1.21\n"
     ]
    }
   ],
   "source": [
    "def file_size(file_info):\n",
    "\tfile_name, file_type, file_bytes= file_info\n",
    "\treturn(\"{:.2f}\".format(file_bytes / 1024))\n",
    "\n",
    "print(file_size(('Class Assignment', 'docx', 17875))) # Should print 17.46\n",
    "print(file_size(('Notes', 'txt', 496))) # Should print 0.48\n",
    "print(file_size(('Program', 'py', 1239))) # Should print 1.21"
   ]
  },
  {
   "cell_type": "markdown",
   "metadata": {},
   "source": [
    "- Strings are sequences of characters, and are immutable. \n",
    "- Lists are sequences of elements of any data type, and are mutable. \n",
    "- Tuples are like lists, since they can contain elements of any data type. But unlike lists, tuples are immutable. \n",
    "\n",
    "- You might be wondering why tuples are a thing, given how similar they are to lists.\n",
    "\n",
    "#### Tuples Benefits:\n",
    "- Tuples can be useful when we need to **ensure that an element is in a certain position and will not change**.\n",
    "- Since lists are mutable, the order of the elements can be changed on us. \n",
    "- **Since the order of the elements in a tuple can't be changed, the position of the element in a tuple can have meaning**. \n",
    "- **A good example of this is when a function returns multiple values**.\n",
    "- In this case, what gets returned is a tuple, with the return values as elements in the tuple. \n",
    "- The order of the returned values is important, and a tuple ensures that the order isn’t going to change. **Storing the elements of a tuple in separate variables is called unpacking. This allows you to take multiple returned values from a function and store each value in its own variable.**"
   ]
  },
  {
   "cell_type": "markdown",
   "metadata": {},
   "source": [
    "Q. Try out the enumerate function for yourself in this quick exercise. Complete the skip_elements function to return every other element from the list, this time using the enumerate function to check if an element is on an even position or an odd position."
   ]
  },
  {
   "cell_type": "code",
   "execution_count": 3,
   "metadata": {},
   "outputs": [
    {
     "name": "stdout",
     "output_type": "stream",
     "text": [
      "['a', 'c', 'e', 'g']\n",
      "['Orange', 'Strawberry', 'Peach']\n"
     ]
    }
   ],
   "source": [
    "def skip_elements(elements):\n",
    "\t# code goes here\n",
    "\tnew_list = []\n",
    "\tfor num, item in enumerate(elements):\n",
    "\t\tif num % 2 == 0:\n",
    "\t\t\tnew_list.append(item)\n",
    "            \n",
    "    # code also can be written using list comprehension\n",
    "    # elements = [v for i, v in enumerate(elements) if i % 2 == 0]\n",
    "\n",
    "    # return elements\n",
    "\t\n",
    "\treturn new_list\n",
    "\n",
    "print(skip_elements([\"a\", \"b\", \"c\", \"d\", \"e\", \"f\", \"g\"])) # Should be ['a', 'c', 'e', 'g']\n",
    "print(skip_elements(['Orange', 'Pineapple', 'Strawberry', 'Kiwi', 'Peach'])) # Should be ['Orange', 'Strawberry', 'Peach']"
   ]
  },
  {
   "cell_type": "markdown",
   "metadata": {},
   "source": [
    "#### Iterating Over Lists Using Enumerate\n",
    "\n",
    "- ***for*** loops lets you iterate over each element in the list, exposing the element to the for loop as a variable. But what if you want to **access the elements in a list, along with the index** of the element in question? \n",
    "\n",
    "- You can do this using the **enumerate()** function. \n",
    "- The enumerate() function **takes a list as a parameter and returns a tuple for each element in the list**. The **first value of the tuple is the index and the second value is the element itself**."
   ]
  },
  {
   "cell_type": "code",
   "execution_count": null,
   "metadata": {},
   "outputs": [],
   "source": []
  }
 ],
 "metadata": {
  "kernelspec": {
   "display_name": "Python 3",
   "language": "python",
   "name": "python3"
  },
  "language_info": {
   "codemirror_mode": {
    "name": "ipython",
    "version": 3
   },
   "file_extension": ".py",
   "mimetype": "text/x-python",
   "name": "python",
   "nbconvert_exporter": "python",
   "pygments_lexer": "ipython3",
   "version": "3.7.4"
  }
 },
 "nbformat": 4,
 "nbformat_minor": 4
}
